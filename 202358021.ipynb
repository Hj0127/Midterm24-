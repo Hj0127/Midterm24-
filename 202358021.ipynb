{
  "nbformat": 4,
  "nbformat_minor": 0,
  "metadata": {
    "colab": {
      "provenance": [],
      "authorship_tag": "ABX9TyM2EHIRN5sOqAkBefC3nuuB",
      "include_colab_link": true
    },
    "kernelspec": {
      "name": "python3",
      "display_name": "Python 3"
    },
    "language_info": {
      "name": "python"
    }
  },
  "cells": [
    {
      "cell_type": "markdown",
      "metadata": {
        "id": "view-in-github",
        "colab_type": "text"
      },
      "source": [
        "<a href=\"https://colab.research.google.com/github/Hj0127/Midterm24-/blob/main/202358021.ipynb\" target=\"_parent\"><img src=\"https://colab.research.google.com/assets/colab-badge.svg\" alt=\"Open In Colab\"/></a>"
      ]
    },
    {
      "cell_type": "code",
      "execution_count": 7,
      "metadata": {
        "id": "Fu6hIfIWNDp9",
        "colab": {
          "base_uri": "https://localhost:8080/"
        },
        "outputId": "f7e01aa3-e727-4a9e-c58b-3aa9cce0a08d"
      },
      "outputs": [
        {
          "output_type": "stream",
          "name": "stdout",
          "text": [
            "The ordinal expression: First\n"
          ]
        }
      ],
      "source": [
        "##Index Questions\n",
        "# Dropdown\n",
        "\n",
        "cardinal_number = \"1\" #@param = [\"1\",\"2\",\"3\",\"4\"]\n",
        "\n",
        "# Add one line of code below\n",
        "cardinal_number = int(cardinal_number)\n",
        "\n",
        "# Ordinal expression as a list\n",
        "\n",
        "words = [\"First\", \"Second\", \"Third\",\"Fourth\"]\n",
        "\n",
        "print(\"The ordinal expression:\", words[cardinal_number-1])"
      ]
    },
    {
      "cell_type": "code",
      "source": [
        " ##Name Question\n",
        " x = \"My name is\"\n",
        " y = \"heejun Kim\"\n",
        "\n",
        " print(x,y)"
      ],
      "metadata": {
        "colab": {
          "base_uri": "https://localhost:8080/"
        },
        "id": "rdqSArf7xoet",
        "outputId": "8c6cdc67-f854-4c1e-a487-ea837e682c90"
      },
      "execution_count": 17,
      "outputs": [
        {
          "output_type": "stream",
          "name": "stdout",
          "text": [
            "My name is heejun Kim\n"
          ]
        }
      ]
    },
    {
      "cell_type": "code",
      "source": [
        "## Variable Question\n",
        "# 'Marry, 1998, Ohio; and John, 1999, Boston.'\n",
        "x = input(\"name: \")\n",
        "y = input(\"I am born in: \")\n",
        "z = input(\"hometown: \")\n",
        "\n",
        "message = f\"Hello, My name is {x}. I was born in {y}, and I'm from {z}, nice to meet you.\"\n",
        "\n",
        "# 메시지 출력\n",
        "print(message)"
      ],
      "metadata": {
        "colab": {
          "base_uri": "https://localhost:8080/"
        },
        "id": "17KTw9L90EsA",
        "outputId": "8855a714-c8b9-4184-80d5-5819164215bb"
      },
      "execution_count": 23,
      "outputs": [
        {
          "output_type": "stream",
          "name": "stdout",
          "text": [
            "name: heejun\n",
            "I am born in: 1992\n",
            "hometown: seoul\n",
            "Hello, My name is heejun. I was born in 1992, and I'm from seoul, nice to meet you.\n"
          ]
        }
      ]
    },
    {
      "cell_type": "code",
      "source": [
        "## Function Question\n",
        "# Define a function for division\n",
        "def divide(x, y):\n",
        "    return x / y\n",
        "\n",
        "# Test the function\n",
        "result = divide(20, 4)\n",
        "print(\"The result of division is:\", result)"
      ],
      "metadata": {
        "id": "mOp3p-SC109F",
        "outputId": "4e8000ea-20d1-46fb-fd9e-cf5055d8b383",
        "colab": {
          "base_uri": "https://localhost:8080/"
        }
      },
      "execution_count": 26,
      "outputs": [
        {
          "output_type": "stream",
          "name": "stdout",
          "text": [
            "The result of division is: 5.0\n"
          ]
        }
      ]
    }
  ]
}