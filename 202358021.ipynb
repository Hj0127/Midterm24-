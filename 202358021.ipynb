{
  "nbformat": 4,
  "nbformat_minor": 0,
  "metadata": {
    "colab": {
      "provenance": [],
      "authorship_tag": "ABX9TyOsjcxJ4glfgD9tCKVLysfz",
      "include_colab_link": true
    },
    "kernelspec": {
      "name": "python3",
      "display_name": "Python 3"
    },
    "language_info": {
      "name": "python"
    }
  },
  "cells": [
    {
      "cell_type": "markdown",
      "metadata": {
        "id": "view-in-github",
        "colab_type": "text"
      },
      "source": [
        "<a href=\"https://colab.research.google.com/github/Hj0127/Midterm24-/blob/main/202358021.ipynb\" target=\"_parent\"><img src=\"https://colab.research.google.com/assets/colab-badge.svg\" alt=\"Open In Colab\"/></a>"
      ]
    },
    {
      "cell_type": "code",
      "execution_count": 7,
      "metadata": {
        "id": "Fu6hIfIWNDp9",
        "colab": {
          "base_uri": "https://localhost:8080/"
        },
        "outputId": "f7e01aa3-e727-4a9e-c58b-3aa9cce0a08d"
      },
      "outputs": [
        {
          "output_type": "stream",
          "name": "stdout",
          "text": [
            "The ordinal expression: First\n"
          ]
        }
      ],
      "source": [
        "##Index Questions\n",
        "# Dropdown\n",
        "\n",
        "cardinal_number = \"1\" #@param = [\"1\",\"2\",\"3\",\"4\"]\n",
        "\n",
        "# Add one line of code below\n",
        "cardinal_number = int(cardinal_number)\n",
        "\n",
        "# Ordinal expression as a list\n",
        "\n",
        "words = [\"First\", \"Second\", \"Third\",\"Fourth\"]\n",
        "\n",
        "print(\"The ordinal expression:\", words[cardinal_number-1])"
      ]
    },
    {
      "cell_type": "code",
      "source": [
        " ##Name Question\n",
        " x = \"My name is\"\n",
        " y = \"heejun Kim\"\n",
        "\n",
        " print(x,y)"
      ],
      "metadata": {
        "id": "rdqSArf7xoet",
        "outputId": "8c6cdc67-f854-4c1e-a487-ea837e682c90",
        "colab": {
          "base_uri": "https://localhost:8080/"
        }
      },
      "execution_count": 17,
      "outputs": [
        {
          "output_type": "stream",
          "name": "stdout",
          "text": [
            "My name is heejun Kim\n"
          ]
        }
      ]
    },
    {
      "cell_type": "code",
      "source": [],
      "metadata": {
        "id": "17KTw9L90EsA"
      },
      "execution_count": null,
      "outputs": []
    }
  ]
}