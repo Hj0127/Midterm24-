{
  "nbformat": 4,
  "nbformat_minor": 0,
  "metadata": {
    "colab": {
      "provenance": [],
      "authorship_tag": "ABX9TyNgKXb9cUC4spRlnM8hBo7Y",
      "include_colab_link": true
    },
    "kernelspec": {
      "name": "python3",
      "display_name": "Python 3"
    },
    "language_info": {
      "name": "python"
    }
  },
  "cells": [
    {
      "cell_type": "markdown",
      "metadata": {
        "id": "view-in-github",
        "colab_type": "text"
      },
      "source": [
        "<a href=\"https://colab.research.google.com/github/Hj0127/Midterm24-/blob/main/202358021.ipynb\" target=\"_parent\"><img src=\"https://colab.research.google.com/assets/colab-badge.svg\" alt=\"Open In Colab\"/></a>"
      ]
    },
    {
      "cell_type": "code",
      "execution_count": 7,
      "metadata": {
        "id": "Fu6hIfIWNDp9",
        "colab": {
          "base_uri": "https://localhost:8080/"
        },
        "outputId": "f7e01aa3-e727-4a9e-c58b-3aa9cce0a08d"
      },
      "outputs": [
        {
          "output_type": "stream",
          "name": "stdout",
          "text": [
            "The ordinal expression: First\n"
          ]
        }
      ],
      "source": [
        "##Index Questions\n",
        "# Dropdown\n",
        "\n",
        "cardinal_number = \"1\" #@param = [\"1\",\"2\",\"3\",\"4\"]\n",
        "\n",
        "# Add one line of code below\n",
        "cardinal_number = int(cardinal_number)\n",
        "\n",
        "# Ordinal expression as a list\n",
        "\n",
        "words = [\"First\", \"Second\", \"Third\",\"Fourth\"]\n",
        "\n",
        "print(\"The ordinal expression:\", words[cardinal_number-1])"
      ]
    },
    {
      "cell_type": "code",
      "source": [
        " ##Name Question\n",
        " x = \"My name is\"\n",
        " y = \"heejun Kim\"\n",
        "\n",
        " print(x,y)"
      ],
      "metadata": {
        "colab": {
          "base_uri": "https://localhost:8080/"
        },
        "id": "rdqSArf7xoet",
        "outputId": "8c6cdc67-f854-4c1e-a487-ea837e682c90"
      },
      "execution_count": 17,
      "outputs": [
        {
          "output_type": "stream",
          "name": "stdout",
          "text": [
            "My name is heejun Kim\n"
          ]
        }
      ]
    },
    {
      "cell_type": "code",
      "source": [
        "## Variable Question\n",
        "# 'Marry, 1998, Ohio; and John, 1999, Boston.'\n",
        "x = input(\"name: \")\n",
        "y = input(\"I am born in: \")\n",
        "z = input(\"hometown: \")\n",
        "\n",
        "message = f\"Hello, My name is {x}. I was born in {y}, and I'm from {z}, nice to meet you.\"\n",
        "\n",
        "# 메시지 출력\n",
        "print(message)"
      ],
      "metadata": {
        "colab": {
          "base_uri": "https://localhost:8080/"
        },
        "id": "17KTw9L90EsA",
        "outputId": "8855a714-c8b9-4184-80d5-5819164215bb"
      },
      "execution_count": 23,
      "outputs": [
        {
          "output_type": "stream",
          "name": "stdout",
          "text": [
            "name: heejun\n",
            "I am born in: 1992\n",
            "hometown: seoul\n",
            "Hello, My name is heejun. I was born in 1992, and I'm from seoul, nice to meet you.\n"
          ]
        }
      ]
    },
    {
      "cell_type": "code",
      "source": [
        "## Function Question\n",
        "# Define a function for division\n",
        "def divide(x, y):\n",
        "    return x / y\n",
        "\n",
        "# Test the function\n",
        "result = divide(20, 4)\n",
        "print(\"The result of division is:\", result)"
      ],
      "metadata": {
        "colab": {
          "base_uri": "https://localhost:8080/"
        },
        "id": "mOp3p-SC109F",
        "outputId": "4e8000ea-20d1-46fb-fd9e-cf5055d8b383"
      },
      "execution_count": 26,
      "outputs": [
        {
          "output_type": "stream",
          "name": "stdout",
          "text": [
            "The result of division is: 5.0\n"
          ]
        }
      ]
    },
    {
      "cell_type": "code",
      "source": [
        "## Dictionary Question\n",
        "grades = {\"Heejun\":90, \"WonJun\":80, \"Sangpil\":70}\n",
        "heejun = grades[\"Heejun\"]\n",
        "print(heejun)"
      ],
      "metadata": {
        "id": "yd8EoZrc41eb",
        "outputId": "50cb848d-e291-4076-a902-0e11b58f04ba",
        "colab": {
          "base_uri": "https://localhost:8080/"
        }
      },
      "execution_count": 29,
      "outputs": [
        {
          "output_type": "stream",
          "name": "stdout",
          "text": [
            "90\n"
          ]
        }
      ]
    },
    {
      "cell_type": "code",
      "source": [
        "## GTTS Question\n",
        "# First, install the gTTS library if you haven't already\n",
        "!pip install gTTS\n",
        "\n",
        "# Import the gTTS library\n",
        "from gtts import gTTS\n",
        "\n",
        "# Import IPython display module\n",
        "from IPython.display import Audio, display\n",
        "# Text to be converted to speech\n",
        "text = input(\"Please enter the text you want to convert to speech: \")\n",
        "\n",
        "# Language in which you want to convert\n",
        "language = 'en'\n",
        "\n",
        "# Pass the text and language to the gTTS module\n",
        "speech = gTTS(text = text, lang = language, slow = False)\n",
        "\n",
        "# Save the converted audio file\n",
        "speech.save(\"output.mp3\")\n",
        "\n",
        "# Display the audio directly in the notebook\n",
        "display(Audio(\"output.mp3\", autoplay=True))\n",
        ""
      ],
      "metadata": {
        "id": "QwMgUoYn6D4m",
        "outputId": "bcb3c284-db79-4a65-c83b-103dab59adbf",
        "colab": {
          "base_uri": "https://localhost:8080/",
          "height": 221
        }
      },
      "execution_count": 34,
      "outputs": [
        {
          "name": "stdout",
          "output_type": "stream",
          "text": [
            "Requirement already satisfied: gTTS in /usr/local/lib/python3.10/dist-packages (2.5.1)\n",
            "Requirement already satisfied: requests<3,>=2.27 in /usr/local/lib/python3.10/dist-packages (from gTTS) (2.31.0)\n",
            "Requirement already satisfied: click<8.2,>=7.1 in /usr/local/lib/python3.10/dist-packages (from gTTS) (8.1.7)\n",
            "Requirement already satisfied: charset-normalizer<4,>=2 in /usr/local/lib/python3.10/dist-packages (from requests<3,>=2.27->gTTS) (3.3.2)\n",
            "Requirement already satisfied: idna<4,>=2.5 in /usr/local/lib/python3.10/dist-packages (from requests<3,>=2.27->gTTS) (3.7)\n",
            "Requirement already satisfied: urllib3<3,>=1.21.1 in /usr/local/lib/python3.10/dist-packages (from requests<3,>=2.27->gTTS) (2.0.7)\n",
            "Requirement already satisfied: certifi>=2017.4.17 in /usr/local/lib/python3.10/dist-packages (from requests<3,>=2.27->gTTS) (2024.2.2)\n",
            "Please enter the text you want to convert to speech: I have succeeded in this task\n"
          ]
        },
        {
          "output_type": "display_data",
          "data": {
            "text/plain": [
              "<IPython.lib.display.Audio object>"
            ],
            "text/html": [
              "\n",
              "                <audio  controls=\"controls\" autoplay=\"autoplay\">\n",
              "                    <source src=\"data:audio/mpeg;base64,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\" type=\"audio/mpeg\" />\n",
              "                    Your browser does not support the audio element.\n",
              "                </audio>\n",
              "              "
            ]
          },
          "metadata": {}
        }
      ]
    }
  ]
}